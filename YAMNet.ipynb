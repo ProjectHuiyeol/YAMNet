{
 "cells": [
  {
   "cell_type": "markdown",
   "id": "baf8a587",
   "metadata": {},
   "source": [
    "# YAMNet\n",
    "+ tensorflow 공식 메뉴얼\n",
    "+ https://www.tensorflow.org/tutorials/audio/transfer_learning_audio"
   ]
  },
  {
   "cell_type": "code",
   "execution_count": 1,
   "id": "5b9b0529",
   "metadata": {},
   "outputs": [],
   "source": [
    "import os\n",
    "\n",
    "from IPython import display\n",
    "import matplotlib.pyplot as plt\n",
    "import numpy as np\n",
    "import pandas as pd\n",
    "\n",
    "import tensorflow as tf\n",
    "import tensorflow_hub as hub\n",
    "import tensorflow_io as tfio"
   ]
  },
  {
   "cell_type": "code",
   "execution_count": 2,
   "id": "7862c9be",
   "metadata": {},
   "outputs": [],
   "source": [
    "path =  'C:/YAMNet_test'\n",
    "os.chdir(path)"
   ]
  },
  {
   "cell_type": "code",
   "execution_count": 5,
   "id": "544e8a36",
   "metadata": {},
   "outputs": [],
   "source": [
    "# Utility functions for loading audio files and making sure the sample rate is correct.\n",
    "\n",
    "@tf.function\n",
    "def load_wav_16k_mono(filename):\n",
    "    \"\"\" Load a WAV file, convert it to a float tensor, resample to 16 kHz single-channel audio. \"\"\"\n",
    "    file_contents = tf.io.read_file(filename)\n",
    "    wav, sample_rate = tf.audio.decode_wav(\n",
    "          file_contents,\n",
    "          desired_channels=1)\n",
    "    wav = tf.squeeze(wav, axis=-1)\n",
    "    sample_rate = tf.cast(sample_rate, dtype=tf.int64)\n",
    "    wav = tfio.audio.resample(wav, rate_in=sample_rate, rate_out=16000)\n",
    "    return wav"
   ]
  },
  {
   "cell_type": "code",
   "execution_count": 9,
   "id": "d75f499e",
   "metadata": {},
   "outputs": [],
   "source": [
    "import pandas as pd\n",
    "# song = pd.read_csv('C:/music_data/Song.csv')\n",
    "# station_song = pd.read_csv('C:/music_data/Station_Song.csv')\n",
    "# station_tag = pd.read_csv('C:/music_data/Station_Tag.csv')\n",
    "# station_tag_info = pd.read_csv('C:/music_data/Station_Tag_Info.csv')"
   ]
  },
  {
   "cell_type": "code",
   "execution_count": 10,
   "id": "5d5012ba",
   "metadata": {},
   "outputs": [],
   "source": [
    "# song.drop(columns = ['IDX'], inplace = True)\n",
    "# station_song.drop(columns = ['IDX'], inplace = True)\n",
    "# station_tag.drop(columns = ['IDX'], inplace = True)\n",
    "# station_tag_info.columns = ['ST_TAG_ID','TYPE_ID','TAG_NAME','CDATE']"
   ]
  },
  {
   "cell_type": "code",
   "execution_count": 11,
   "id": "0acd29bb",
   "metadata": {},
   "outputs": [
    {
     "name": "stdout",
     "output_type": "stream",
     "text": [
      "Index(['SONG_ID', 'SONG_TITLE'], dtype='object')\n",
      "Index(['ST_ID', 'SONG_ID', 'PRIORITY'], dtype='object')\n",
      "Index(['ST_ID', 'ST_TAG_ID'], dtype='object')\n",
      "Index(['ST_TAG_ID', 'TYPE_ID', 'TAG_NAME', 'CDATE'], dtype='object')\n"
     ]
    }
   ],
   "source": [
    "# print(song.columns, station_song.columns ,station_tag.columns, station_tag_info.columns, sep = '\\n')"
   ]
  },
  {
   "cell_type": "code",
   "execution_count": 12,
   "id": "181446a5",
   "metadata": {},
   "outputs": [],
   "source": [
    "# part1 = pd.merge(song,station_song, on = 'SONG_ID', how = 'inner')"
   ]
  },
  {
   "cell_type": "code",
   "execution_count": 13,
   "id": "db8e2620",
   "metadata": {},
   "outputs": [],
   "source": [
    "# part2 = pd.merge(part1,station_tag, on = 'ST_ID', how = 'inner')"
   ]
  },
  {
   "cell_type": "code",
   "execution_count": 14,
   "id": "c943d649",
   "metadata": {},
   "outputs": [],
   "source": [
    "# final = pd.merge(part2,station_tag_info, on = 'ST_TAG_ID', how = 'inner')"
   ]
  },
  {
   "cell_type": "code",
   "execution_count": 15,
   "id": "53b8ba35",
   "metadata": {},
   "outputs": [],
   "source": [
    "# final.sort_values(by = ['SONG_ID'], inplace = True)"
   ]
  },
  {
   "cell_type": "code",
   "execution_count": 16,
   "id": "62a1fe13",
   "metadata": {},
   "outputs": [
    {
     "data": {
      "text/html": [
       "<div>\n",
       "<style scoped>\n",
       "    .dataframe tbody tr th:only-of-type {\n",
       "        vertical-align: middle;\n",
       "    }\n",
       "\n",
       "    .dataframe tbody tr th {\n",
       "        vertical-align: top;\n",
       "    }\n",
       "\n",
       "    .dataframe thead th {\n",
       "        text-align: right;\n",
       "    }\n",
       "</style>\n",
       "<table border=\"1\" class=\"dataframe\">\n",
       "  <thead>\n",
       "    <tr style=\"text-align: right;\">\n",
       "      <th></th>\n",
       "      <th>SONG_ID</th>\n",
       "      <th>SONG_TITLE</th>\n",
       "      <th>ST_ID</th>\n",
       "      <th>PRIORITY</th>\n",
       "      <th>ST_TAG_ID</th>\n",
       "      <th>TYPE_ID</th>\n",
       "      <th>TAG_NAME</th>\n",
       "      <th>CDATE</th>\n",
       "    </tr>\n",
       "  </thead>\n",
       "  <tbody>\n",
       "    <tr>\n",
       "      <th>0</th>\n",
       "      <td>2466</td>\n",
       "      <td>오늘도 난</td>\n",
       "      <td>467710</td>\n",
       "      <td>2</td>\n",
       "      <td>5711</td>\n",
       "      <td>2</td>\n",
       "      <td>편안해요</td>\n",
       "      <td>2022-03-17 14:48:33</td>\n",
       "    </tr>\n",
       "    <tr>\n",
       "      <th>1</th>\n",
       "      <td>5112</td>\n",
       "      <td>끝 (End)</td>\n",
       "      <td>456206</td>\n",
       "      <td>17</td>\n",
       "      <td>5766</td>\n",
       "      <td>12</td>\n",
       "      <td>신남</td>\n",
       "      <td>2022-03-31 14:31:33</td>\n",
       "    </tr>\n",
       "    <tr>\n",
       "      <th>2</th>\n",
       "      <td>7712</td>\n",
       "      <td>당신은 모르실거야 (CF - LIG 핑클편)</td>\n",
       "      <td>488851</td>\n",
       "      <td>11</td>\n",
       "      <td>5322</td>\n",
       "      <td>2</td>\n",
       "      <td>화나요</td>\n",
       "      <td>2021-06-08 12:07:54</td>\n",
       "    </tr>\n",
       "    <tr>\n",
       "      <th>3</th>\n",
       "      <td>9270</td>\n",
       "      <td>매직 카펫 라이드</td>\n",
       "      <td>363115</td>\n",
       "      <td>13</td>\n",
       "      <td>5330</td>\n",
       "      <td>2</td>\n",
       "      <td>행복해요</td>\n",
       "      <td>2021-06-08 12:07:54</td>\n",
       "    </tr>\n",
       "    <tr>\n",
       "      <th>4</th>\n",
       "      <td>9302</td>\n",
       "      <td>Deep In The Night</td>\n",
       "      <td>489238</td>\n",
       "      <td>9</td>\n",
       "      <td>5322</td>\n",
       "      <td>2</td>\n",
       "      <td>화나요</td>\n",
       "      <td>2021-06-08 12:07:54</td>\n",
       "    </tr>\n",
       "  </tbody>\n",
       "</table>\n",
       "</div>"
      ],
      "text/plain": [
       "   SONG_ID                SONG_TITLE   ST_ID  PRIORITY  ST_TAG_ID  TYPE_ID  \\\n",
       "0     2466                     오늘도 난  467710         2       5711        2   \n",
       "1     5112                   끝 (End)  456206        17       5766       12   \n",
       "2     7712  당신은 모르실거야 (CF - LIG 핑클편)  488851        11       5322        2   \n",
       "3     9270                 매직 카펫 라이드  363115        13       5330        2   \n",
       "4     9302         Deep In The Night  489238         9       5322        2   \n",
       "\n",
       "  TAG_NAME                CDATE  \n",
       "0     편안해요  2022-03-17 14:48:33  \n",
       "1       신남  2022-03-31 14:31:33  \n",
       "2      화나요  2021-06-08 12:07:54  \n",
       "3     행복해요  2021-06-08 12:07:54  \n",
       "4      화나요  2021-06-08 12:07:54  "
      ]
     },
     "execution_count": 16,
     "metadata": {},
     "output_type": "execute_result"
    }
   ],
   "source": [
    "# final_data = final.drop_duplicates(['SONG_ID']).reset_index(drop = True)\n",
    "# final_data.head()"
   ]
  },
  {
   "cell_type": "code",
   "execution_count": 17,
   "id": "c748f71d",
   "metadata": {},
   "outputs": [],
   "source": [
    "# final_data.to_csv('total_data.csv', index = False, encoding = 'utf-8')"
   ]
  },
  {
   "cell_type": "code",
   "execution_count": 30,
   "id": "06fcc7b5",
   "metadata": {
    "scrolled": true
   },
   "outputs": [
    {
     "data": {
      "text/html": [
       "<div>\n",
       "<style scoped>\n",
       "    .dataframe tbody tr th:only-of-type {\n",
       "        vertical-align: middle;\n",
       "    }\n",
       "\n",
       "    .dataframe tbody tr th {\n",
       "        vertical-align: top;\n",
       "    }\n",
       "\n",
       "    .dataframe thead th {\n",
       "        text-align: right;\n",
       "    }\n",
       "</style>\n",
       "<table border=\"1\" class=\"dataframe\">\n",
       "  <thead>\n",
       "    <tr style=\"text-align: right;\">\n",
       "      <th></th>\n",
       "      <th>SONG_ID</th>\n",
       "      <th>SONG_TITLE</th>\n",
       "      <th>ST_ID</th>\n",
       "      <th>PRIORITY</th>\n",
       "      <th>ST_TAG_ID</th>\n",
       "      <th>TYPE_ID</th>\n",
       "      <th>TAG_NAME</th>\n",
       "      <th>CDATE</th>\n",
       "    </tr>\n",
       "  </thead>\n",
       "  <tbody>\n",
       "    <tr>\n",
       "      <th>0</th>\n",
       "      <td>2466</td>\n",
       "      <td>오늘도 난</td>\n",
       "      <td>467710</td>\n",
       "      <td>2</td>\n",
       "      <td>5711</td>\n",
       "      <td>2</td>\n",
       "      <td>편안해요</td>\n",
       "      <td>2022-03-17 14:48:33</td>\n",
       "    </tr>\n",
       "    <tr>\n",
       "      <th>1</th>\n",
       "      <td>5112</td>\n",
       "      <td>끝 (End)</td>\n",
       "      <td>456206</td>\n",
       "      <td>17</td>\n",
       "      <td>5766</td>\n",
       "      <td>12</td>\n",
       "      <td>신남</td>\n",
       "      <td>2022-03-31 14:31:33</td>\n",
       "    </tr>\n",
       "    <tr>\n",
       "      <th>2</th>\n",
       "      <td>7712</td>\n",
       "      <td>당신은 모르실거야 (CF - LIG 핑클편)</td>\n",
       "      <td>488851</td>\n",
       "      <td>11</td>\n",
       "      <td>5322</td>\n",
       "      <td>2</td>\n",
       "      <td>화나요</td>\n",
       "      <td>2021-06-08 12:07:54</td>\n",
       "    </tr>\n",
       "    <tr>\n",
       "      <th>3</th>\n",
       "      <td>9270</td>\n",
       "      <td>매직 카펫 라이드</td>\n",
       "      <td>363115</td>\n",
       "      <td>13</td>\n",
       "      <td>5330</td>\n",
       "      <td>2</td>\n",
       "      <td>행복해요</td>\n",
       "      <td>2021-06-08 12:07:54</td>\n",
       "    </tr>\n",
       "    <tr>\n",
       "      <th>4</th>\n",
       "      <td>9302</td>\n",
       "      <td>Deep In The Night</td>\n",
       "      <td>489238</td>\n",
       "      <td>9</td>\n",
       "      <td>5322</td>\n",
       "      <td>2</td>\n",
       "      <td>화나요</td>\n",
       "      <td>2021-06-08 12:07:54</td>\n",
       "    </tr>\n",
       "    <tr>\n",
       "      <th>...</th>\n",
       "      <td>...</td>\n",
       "      <td>...</td>\n",
       "      <td>...</td>\n",
       "      <td>...</td>\n",
       "      <td>...</td>\n",
       "      <td>...</td>\n",
       "      <td>...</td>\n",
       "      <td>...</td>\n",
       "    </tr>\n",
       "    <tr>\n",
       "      <th>1233</th>\n",
       "      <td>34850634</td>\n",
       "      <td>사랑인가 봐</td>\n",
       "      <td>466008</td>\n",
       "      <td>1</td>\n",
       "      <td>5711</td>\n",
       "      <td>2</td>\n",
       "      <td>편안해요</td>\n",
       "      <td>2022-03-17 14:48:33</td>\n",
       "    </tr>\n",
       "    <tr>\n",
       "      <th>1234</th>\n",
       "      <td>34890162</td>\n",
       "      <td>다시 만날까 봐</td>\n",
       "      <td>466884</td>\n",
       "      <td>20</td>\n",
       "      <td>5711</td>\n",
       "      <td>2</td>\n",
       "      <td>편안해요</td>\n",
       "      <td>2022-03-17 14:48:33</td>\n",
       "    </tr>\n",
       "    <tr>\n",
       "      <th>1235</th>\n",
       "      <td>34927767</td>\n",
       "      <td>정이라고 하자 (Feat. 10CM)</td>\n",
       "      <td>493585</td>\n",
       "      <td>12</td>\n",
       "      <td>5322</td>\n",
       "      <td>2</td>\n",
       "      <td>화나요</td>\n",
       "      <td>2021-06-08 12:07:54</td>\n",
       "    </tr>\n",
       "    <tr>\n",
       "      <th>1236</th>\n",
       "      <td>34943312</td>\n",
       "      <td>나의 X에게</td>\n",
       "      <td>493585</td>\n",
       "      <td>19</td>\n",
       "      <td>5322</td>\n",
       "      <td>2</td>\n",
       "      <td>화나요</td>\n",
       "      <td>2021-06-08 12:07:54</td>\n",
       "    </tr>\n",
       "    <tr>\n",
       "      <th>1237</th>\n",
       "      <td>101721111</td>\n",
       "      <td>On the Atlas</td>\n",
       "      <td>460784</td>\n",
       "      <td>1</td>\n",
       "      <td>5766</td>\n",
       "      <td>12</td>\n",
       "      <td>신남</td>\n",
       "      <td>2022-03-31 14:31:33</td>\n",
       "    </tr>\n",
       "  </tbody>\n",
       "</table>\n",
       "<p>1238 rows × 8 columns</p>\n",
       "</div>"
      ],
      "text/plain": [
       "        SONG_ID                SONG_TITLE   ST_ID  PRIORITY  ST_TAG_ID  \\\n",
       "0          2466                     오늘도 난  467710         2       5711   \n",
       "1          5112                   끝 (End)  456206        17       5766   \n",
       "2          7712  당신은 모르실거야 (CF - LIG 핑클편)  488851        11       5322   \n",
       "3          9270                 매직 카펫 라이드  363115        13       5330   \n",
       "4          9302         Deep In The Night  489238         9       5322   \n",
       "...         ...                       ...     ...       ...        ...   \n",
       "1233   34850634                    사랑인가 봐  466008         1       5711   \n",
       "1234   34890162                  다시 만날까 봐  466884        20       5711   \n",
       "1235   34927767      정이라고 하자 (Feat. 10CM)  493585        12       5322   \n",
       "1236   34943312                    나의 X에게  493585        19       5322   \n",
       "1237  101721111              On the Atlas  460784         1       5766   \n",
       "\n",
       "      TYPE_ID TAG_NAME                CDATE  \n",
       "0           2     편안해요  2022-03-17 14:48:33  \n",
       "1          12       신남  2022-03-31 14:31:33  \n",
       "2           2      화나요  2021-06-08 12:07:54  \n",
       "3           2     행복해요  2021-06-08 12:07:54  \n",
       "4           2      화나요  2021-06-08 12:07:54  \n",
       "...       ...      ...                  ...  \n",
       "1233        2     편안해요  2022-03-17 14:48:33  \n",
       "1234        2     편안해요  2022-03-17 14:48:33  \n",
       "1235        2      화나요  2021-06-08 12:07:54  \n",
       "1236        2      화나요  2021-06-08 12:07:54  \n",
       "1237       12       신남  2022-03-31 14:31:33  \n",
       "\n",
       "[1238 rows x 8 columns]"
      ]
     },
     "execution_count": 30,
     "metadata": {},
     "output_type": "execute_result"
    }
   ],
   "source": [
    "final_data = pd.read_csv('total_data.csv', encoding = 'utf-8')\n",
    "final_data"
   ]
  },
  {
   "cell_type": "code",
   "execution_count": 18,
   "id": "ce82cf10",
   "metadata": {},
   "outputs": [],
   "source": [
    "my_classes = ['화나요','행복해요','편안해요','슬픔','불안','신남']\n",
    "map_class_to_id = {'화나요':0,'행복해요':1,'편안해요':2,'슬픔':3,'불안':4,'신남':5}\n",
    "\n",
    "class_id = final_data['TAG_NAME'].apply(lambda name : map_class_to_id[name])\n",
    "filtered_pd = final_data.assign(TAG_NAME = class_id)"
   ]
  },
  {
   "cell_type": "code",
   "execution_count": 19,
   "id": "bb08e293",
   "metadata": {},
   "outputs": [
    {
     "data": {
      "text/html": [
       "<div>\n",
       "<style scoped>\n",
       "    .dataframe tbody tr th:only-of-type {\n",
       "        vertical-align: middle;\n",
       "    }\n",
       "\n",
       "    .dataframe tbody tr th {\n",
       "        vertical-align: top;\n",
       "    }\n",
       "\n",
       "    .dataframe thead th {\n",
       "        text-align: right;\n",
       "    }\n",
       "</style>\n",
       "<table border=\"1\" class=\"dataframe\">\n",
       "  <thead>\n",
       "    <tr style=\"text-align: right;\">\n",
       "      <th></th>\n",
       "      <th>SONG_ID</th>\n",
       "      <th>SONG_TITLE</th>\n",
       "      <th>ST_ID</th>\n",
       "      <th>PRIORITY</th>\n",
       "      <th>ST_TAG_ID</th>\n",
       "      <th>TYPE_ID</th>\n",
       "      <th>TAG_NAME</th>\n",
       "      <th>CDATE</th>\n",
       "    </tr>\n",
       "  </thead>\n",
       "  <tbody>\n",
       "    <tr>\n",
       "      <th>0</th>\n",
       "      <td>C:/music_data/data_wav/2466.wav</td>\n",
       "      <td>오늘도 난</td>\n",
       "      <td>467710</td>\n",
       "      <td>2</td>\n",
       "      <td>5711</td>\n",
       "      <td>2</td>\n",
       "      <td>2</td>\n",
       "      <td>2022-03-17 14:48:33</td>\n",
       "    </tr>\n",
       "    <tr>\n",
       "      <th>1</th>\n",
       "      <td>C:/music_data/data_wav/5112.wav</td>\n",
       "      <td>끝 (End)</td>\n",
       "      <td>456206</td>\n",
       "      <td>17</td>\n",
       "      <td>5766</td>\n",
       "      <td>12</td>\n",
       "      <td>5</td>\n",
       "      <td>2022-03-31 14:31:33</td>\n",
       "    </tr>\n",
       "    <tr>\n",
       "      <th>2</th>\n",
       "      <td>C:/music_data/data_wav/7712.wav</td>\n",
       "      <td>당신은 모르실거야 (CF - LIG 핑클편)</td>\n",
       "      <td>488851</td>\n",
       "      <td>11</td>\n",
       "      <td>5322</td>\n",
       "      <td>2</td>\n",
       "      <td>0</td>\n",
       "      <td>2021-06-08 12:07:54</td>\n",
       "    </tr>\n",
       "    <tr>\n",
       "      <th>3</th>\n",
       "      <td>C:/music_data/data_wav/9270.wav</td>\n",
       "      <td>매직 카펫 라이드</td>\n",
       "      <td>363115</td>\n",
       "      <td>13</td>\n",
       "      <td>5330</td>\n",
       "      <td>2</td>\n",
       "      <td>1</td>\n",
       "      <td>2021-06-08 12:07:54</td>\n",
       "    </tr>\n",
       "    <tr>\n",
       "      <th>4</th>\n",
       "      <td>C:/music_data/data_wav/9302.wav</td>\n",
       "      <td>Deep In The Night</td>\n",
       "      <td>489238</td>\n",
       "      <td>9</td>\n",
       "      <td>5322</td>\n",
       "      <td>2</td>\n",
       "      <td>0</td>\n",
       "      <td>2021-06-08 12:07:54</td>\n",
       "    </tr>\n",
       "  </tbody>\n",
       "</table>\n",
       "</div>"
      ],
      "text/plain": [
       "                           SONG_ID                SONG_TITLE   ST_ID  \\\n",
       "0  C:/music_data/data_wav/2466.wav                     오늘도 난  467710   \n",
       "1  C:/music_data/data_wav/5112.wav                   끝 (End)  456206   \n",
       "2  C:/music_data/data_wav/7712.wav  당신은 모르실거야 (CF - LIG 핑클편)  488851   \n",
       "3  C:/music_data/data_wav/9270.wav                 매직 카펫 라이드  363115   \n",
       "4  C:/music_data/data_wav/9302.wav         Deep In The Night  489238   \n",
       "\n",
       "   PRIORITY  ST_TAG_ID  TYPE_ID  TAG_NAME                CDATE  \n",
       "0         2       5711        2         2  2022-03-17 14:48:33  \n",
       "1        17       5766       12         5  2022-03-31 14:31:33  \n",
       "2        11       5322        2         0  2021-06-08 12:07:54  \n",
       "3        13       5330        2         1  2021-06-08 12:07:54  \n",
       "4         9       5322        2         0  2021-06-08 12:07:54  "
      ]
     },
     "execution_count": 19,
     "metadata": {},
     "output_type": "execute_result"
    }
   ],
   "source": [
    "full_path = filtered_pd['SONG_ID'].apply(lambda row: os.path.join('C:/music_data/data_wav/',str(row) + '.wav'))\n",
    "filtered_pd = filtered_pd.assign(SONG_ID = full_path)\n",
    "filtered_pd.head()"
   ]
  },
  {
   "cell_type": "code",
   "execution_count": 20,
   "id": "ba2928ec",
   "metadata": {},
   "outputs": [
    {
     "data": {
      "text/plain": [
       "(TensorSpec(shape=(), dtype=tf.string, name=None),\n",
       " TensorSpec(shape=(), dtype=tf.int64, name=None))"
      ]
     },
     "execution_count": 20,
     "metadata": {},
     "output_type": "execute_result"
    }
   ],
   "source": [
    "filenames = filtered_pd['SONG_ID'][:10]\n",
    "targets = filtered_pd['TAG_NAME'][:10]\n",
    "main_ds = tf.data.Dataset.from_tensor_slices((filenames, targets))\n",
    "main_ds.element_spec"
   ]
  },
  {
   "cell_type": "code",
   "execution_count": 21,
   "id": "7a40fed7",
   "metadata": {},
   "outputs": [
    {
     "name": "stdout",
     "output_type": "stream",
     "text": [
      "WARNING:tensorflow:Using a while_loop for converting IO>AudioResample cause there is no registered converter for this op.\n"
     ]
    },
    {
     "name": "stderr",
     "output_type": "stream",
     "text": [
      "WARNING:tensorflow:Using a while_loop for converting IO>AudioResample cause there is no registered converter for this op.\n"
     ]
    },
    {
     "data": {
      "text/plain": [
       "(TensorSpec(shape=<unknown>, dtype=tf.float32, name=None),\n",
       " TensorSpec(shape=(), dtype=tf.int64, name=None))"
      ]
     },
     "execution_count": 21,
     "metadata": {},
     "output_type": "execute_result"
    }
   ],
   "source": [
    "def load_wav_for_map(filename, label):\n",
    "    return load_wav_16k_mono(filename), label\n",
    "\n",
    "main_ds = main_ds.map(load_wav_for_map)\n",
    "main_ds.element_spec"
   ]
  },
  {
   "cell_type": "code",
   "execution_count": 22,
   "id": "d23fdfd3",
   "metadata": {},
   "outputs": [
    {
     "data": {
      "text/plain": [
       "(TensorSpec(shape=(1024,), dtype=tf.float32, name=None),\n",
       " TensorSpec(shape=(), dtype=tf.int64, name=None))"
      ]
     },
     "execution_count": 22,
     "metadata": {},
     "output_type": "execute_result"
    }
   ],
   "source": [
    "# applies the embedding extraction model to a wav data\n",
    "def extract_embedding(wav_data,targets):\n",
    "    with tf.device('/CPU:0'):\n",
    "        scores, embeddings, spectrogram = yamnet_model(wav_data)\n",
    "        num_embeddings = tf.shape(embeddings)[0]\n",
    "    return (embeddings,\n",
    "           tf.repeat(targets, num_embeddings))\n",
    "\n",
    "# extract embedding\n",
    "main_ds = main_ds.map(extract_embedding).unbatch()\n",
    "main_ds.element_spec"
   ]
  },
  {
   "cell_type": "code",
   "execution_count": 23,
   "id": "1fad235e",
   "metadata": {},
   "outputs": [],
   "source": [
    "cached_ds = main_ds.cache().batch(32).prefetch(tf.data.AUTOTUNE)"
   ]
  },
  {
   "cell_type": "code",
   "execution_count": 24,
   "id": "93351b9a",
   "metadata": {},
   "outputs": [
    {
     "name": "stdout",
     "output_type": "stream",
     "text": [
      "Model: \"my_model\"\n",
      "_________________________________________________________________\n",
      " Layer (type)                Output Shape              Param #   \n",
      "=================================================================\n",
      " dense (Dense)               (None, 512)               524800    \n",
      "                                                                 \n",
      " dense_1 (Dense)             (None, 6)                 3078      \n",
      "                                                                 \n",
      "=================================================================\n",
      "Total params: 527,878\n",
      "Trainable params: 527,878\n",
      "Non-trainable params: 0\n",
      "_________________________________________________________________\n"
     ]
    }
   ],
   "source": [
    "my_model = tf.keras.Sequential([\n",
    "    tf.keras.layers.Input(shape=(1024), dtype=tf.float32,\n",
    "                          name='input_embedding'),\n",
    "    tf.keras.layers.Dense(512, activation='relu'),\n",
    "    tf.keras.layers.Dense(len(my_classes))\n",
    "], name='my_model')\n",
    "\n",
    "my_model.summary()"
   ]
  },
  {
   "cell_type": "code",
   "execution_count": 25,
   "id": "0fd104b9",
   "metadata": {},
   "outputs": [],
   "source": [
    "my_model.compile(loss=tf.keras.losses.SparseCategoricalCrossentropy(from_logits=True),\n",
    "                 optimizer=\"adam\",\n",
    "                 metrics=['accuracy'])\n",
    "\n",
    "callback = tf.keras.callbacks.EarlyStopping(monitor='loss',\n",
    "                                            patience=3,\n",
    "                                            restore_best_weights=True)"
   ]
  },
  {
   "cell_type": "code",
   "execution_count": 26,
   "id": "f90c6a4d",
   "metadata": {},
   "outputs": [
    {
     "name": "stdout",
     "output_type": "stream",
     "text": [
      "Epoch 1/20\n",
      "154/154 [==============================] - 23s 117ms/step - loss: 2.4818 - accuracy: 0.4140\n",
      "Epoch 2/20\n",
      "154/154 [==============================] - 0s 3ms/step - loss: 1.5781 - accuracy: 0.4452\n",
      "Epoch 3/20\n",
      "154/154 [==============================] - 0s 2ms/step - loss: 1.3311 - accuracy: 0.4878\n",
      "Epoch 4/20\n",
      "154/154 [==============================] - 0s 2ms/step - loss: 1.1871 - accuracy: 0.5418\n",
      "Epoch 5/20\n",
      "154/154 [==============================] - 0s 2ms/step - loss: 1.1126 - accuracy: 0.6003\n",
      "Epoch 6/20\n",
      "154/154 [==============================] - 0s 2ms/step - loss: 1.0308 - accuracy: 0.6474\n",
      "Epoch 7/20\n",
      "154/154 [==============================] - 0s 2ms/step - loss: 1.0471 - accuracy: 0.6498\n",
      "Epoch 8/20\n",
      "154/154 [==============================] - 0s 2ms/step - loss: 1.0145 - accuracy: 0.6618\n",
      "Epoch 9/20\n",
      "154/154 [==============================] - 0s 2ms/step - loss: 0.9523 - accuracy: 0.6796\n",
      "Epoch 10/20\n",
      "154/154 [==============================] - 0s 2ms/step - loss: 0.9907 - accuracy: 0.6822\n",
      "Epoch 11/20\n",
      "154/154 [==============================] - 0s 2ms/step - loss: 0.8282 - accuracy: 0.6820\n",
      "Epoch 12/20\n",
      "154/154 [==============================] - 0s 2ms/step - loss: 0.7818 - accuracy: 0.7053\n",
      "Epoch 13/20\n",
      "154/154 [==============================] - 0s 2ms/step - loss: 0.6791 - accuracy: 0.7283\n",
      "Epoch 14/20\n",
      "154/154 [==============================] - 0s 2ms/step - loss: 0.5701 - accuracy: 0.7615\n",
      "Epoch 15/20\n",
      "154/154 [==============================] - 0s 2ms/step - loss: 0.5256 - accuracy: 0.7835\n",
      "Epoch 16/20\n",
      "154/154 [==============================] - 0s 2ms/step - loss: 0.4826 - accuracy: 0.7945\n",
      "Epoch 17/20\n",
      "154/154 [==============================] - 0s 2ms/step - loss: 0.4368 - accuracy: 0.8123\n",
      "Epoch 18/20\n",
      "154/154 [==============================] - 0s 2ms/step - loss: 0.4030 - accuracy: 0.8257\n",
      "Epoch 19/20\n",
      "154/154 [==============================] - 0s 2ms/step - loss: 0.3850 - accuracy: 0.8390\n",
      "Epoch 20/20\n",
      "154/154 [==============================] - 0s 2ms/step - loss: 0.3884 - accuracy: 0.8457\n"
     ]
    }
   ],
   "source": [
    "history = my_model.fit(cached_ds,epochs=20)"
   ]
  },
  {
   "cell_type": "code",
   "execution_count": null,
   "id": "0fb97214",
   "metadata": {},
   "outputs": [],
   "source": []
  }
 ],
 "metadata": {
  "kernelspec": {
   "display_name": "Python 3 (ipykernel)",
   "language": "python",
   "name": "python3"
  },
  "language_info": {
   "codemirror_mode": {
    "name": "ipython",
    "version": 3
   },
   "file_extension": ".py",
   "mimetype": "text/x-python",
   "name": "python",
   "nbconvert_exporter": "python",
   "pygments_lexer": "ipython3",
   "version": "3.7.4"
  }
 },
 "nbformat": 4,
 "nbformat_minor": 5
}
