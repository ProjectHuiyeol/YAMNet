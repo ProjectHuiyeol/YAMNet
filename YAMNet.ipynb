{
 "cells": [
  {
   "cell_type": "markdown",
   "id": "13fc3fdd",
   "metadata": {},
   "source": [
    "# YAMNet\n",
    "+ tensorflow 공식 메뉴얼\n",
    "+ https://www.tensorflow.org/tutorials/audio/transfer_learning_audio"
   ]
  },
  {
   "cell_type": "code",
   "execution_count": 1,
   "id": "a138f02f",
   "metadata": {},
   "outputs": [],
   "source": [
    "import os\n",
    "\n",
    "from IPython import display\n",
    "import matplotlib.pyplot as plt\n",
    "import numpy as np\n",
    "import pandas as pd\n",
    "\n",
    "import tensorflow as tf\n",
    "import tensorflow_hub as hub\n",
    "import tensorflow_io as tfio"
   ]
  },
  {
   "cell_type": "code",
   "execution_count": 2,
   "id": "e561d9c5",
   "metadata": {},
   "outputs": [],
   "source": [
    "path =  'C:/YAMNet_test'\n",
    "os.chdir(path)"
   ]
  },
  {
   "cell_type": "code",
   "execution_count": 3,
   "id": "95f1a57f",
   "metadata": {},
   "outputs": [],
   "source": [
    "# Utility functions for loading audio files and making sure the sample rate is correct.\n",
    "\n",
    "@tf.function\n",
    "def load_wav_16k_mono(filename):\n",
    "    \"\"\" Load a WAV file, convert it to a float tensor, resample to 16 kHz single-channel audio. \"\"\"\n",
    "    file_contents = tf.io.read_file(filename)\n",
    "    wav, sample_rate = tf.audio.decode_wav(\n",
    "          file_contents,\n",
    "          desired_channels=1)\n",
    "    wav = tf.squeeze(wav, axis=-1)\n",
    "    sample_rate = tf.cast(sample_rate, dtype=tf.int64)\n",
    "    wav = tfio.audio.resample(wav, rate_in=sample_rate, rate_out=16000)\n",
    "    return wav"
   ]
  },
  {
   "cell_type": "code",
   "execution_count": 4,
   "id": "5c723fab",
   "metadata": {},
   "outputs": [],
   "source": [
    "# combined data\n",
    "# import pandas as pd\n",
    "# song = pd.read_csv('C:/music_data/Song.csv')\n",
    "# station_song = pd.read_csv('C:/music_data/Station_Song.csv')\n",
    "# station_tag = pd.read_csv('C:/music_data/Station_Tag.csv')\n",
    "# station_tag_info = pd.read_csv('C:/music_data/Station_Tag_Info.csv')\n",
    "# song.drop(columns = ['IDX'], inplace = True)\n",
    "# station_song.drop(columns = ['IDX'], inplace = True)\n",
    "# station_tag.drop(columns = ['IDX'], inplace = True)\n",
    "# station_tag_info.columns = ['ST_TAG_ID','TYPE_ID','TAG_NAME','CDATE']\n",
    "# print(song.columns, station_song.columns ,station_tag.columns, station_tag_info.columns, sep = '\\n')\n",
    "# part1 = pd.merge(song,station_song, on = 'SONG_ID', how = 'inner')\n",
    "# part2 = pd.merge(part1,station_tag, on = 'ST_ID', how = 'inner')\n",
    "# final = pd.merge(part2,station_tag_info, on = 'ST_TAG_ID', how = 'inner')\n",
    "# final.sort_values(by = ['SONG_ID'], inplace = True)\n",
    "# final_data = final.drop_duplicates(['SONG_ID']).reset_index(drop = True)\n",
    "# final_data.head()\n",
    "# final_data.to_csv('total_data.csv', index = False, encoding = 'utf-8')"
   ]
  },
  {
   "cell_type": "code",
   "execution_count": 5,
   "id": "47002b5e",
   "metadata": {
    "scrolled": true
   },
   "outputs": [
    {
     "data": {
      "text/html": [
       "<div>\n",
       "<style scoped>\n",
       "    .dataframe tbody tr th:only-of-type {\n",
       "        vertical-align: middle;\n",
       "    }\n",
       "\n",
       "    .dataframe tbody tr th {\n",
       "        vertical-align: top;\n",
       "    }\n",
       "\n",
       "    .dataframe thead th {\n",
       "        text-align: right;\n",
       "    }\n",
       "</style>\n",
       "<table border=\"1\" class=\"dataframe\">\n",
       "  <thead>\n",
       "    <tr style=\"text-align: right;\">\n",
       "      <th></th>\n",
       "      <th>SONG_ID</th>\n",
       "      <th>SONG_TITLE</th>\n",
       "      <th>ST_ID</th>\n",
       "      <th>PRIORITY</th>\n",
       "      <th>ST_TAG_ID</th>\n",
       "      <th>TYPE_ID</th>\n",
       "      <th>TAG_NAME</th>\n",
       "      <th>CDATE</th>\n",
       "    </tr>\n",
       "  </thead>\n",
       "  <tbody>\n",
       "    <tr>\n",
       "      <th>0</th>\n",
       "      <td>2466</td>\n",
       "      <td>오늘도 난</td>\n",
       "      <td>467710</td>\n",
       "      <td>2</td>\n",
       "      <td>5711</td>\n",
       "      <td>2</td>\n",
       "      <td>편안해요</td>\n",
       "      <td>2022-03-17 14:48:33</td>\n",
       "    </tr>\n",
       "    <tr>\n",
       "      <th>1</th>\n",
       "      <td>5112</td>\n",
       "      <td>끝 (End)</td>\n",
       "      <td>456206</td>\n",
       "      <td>17</td>\n",
       "      <td>5766</td>\n",
       "      <td>12</td>\n",
       "      <td>신남</td>\n",
       "      <td>2022-03-31 14:31:33</td>\n",
       "    </tr>\n",
       "    <tr>\n",
       "      <th>2</th>\n",
       "      <td>7712</td>\n",
       "      <td>당신은 모르실거야 (CF - LIG 핑클편)</td>\n",
       "      <td>488851</td>\n",
       "      <td>11</td>\n",
       "      <td>5322</td>\n",
       "      <td>2</td>\n",
       "      <td>화나요</td>\n",
       "      <td>2021-06-08 12:07:54</td>\n",
       "    </tr>\n",
       "    <tr>\n",
       "      <th>3</th>\n",
       "      <td>9270</td>\n",
       "      <td>매직 카펫 라이드</td>\n",
       "      <td>363115</td>\n",
       "      <td>13</td>\n",
       "      <td>5330</td>\n",
       "      <td>2</td>\n",
       "      <td>행복해요</td>\n",
       "      <td>2021-06-08 12:07:54</td>\n",
       "    </tr>\n",
       "    <tr>\n",
       "      <th>4</th>\n",
       "      <td>9302</td>\n",
       "      <td>Deep In The Night</td>\n",
       "      <td>489238</td>\n",
       "      <td>9</td>\n",
       "      <td>5322</td>\n",
       "      <td>2</td>\n",
       "      <td>화나요</td>\n",
       "      <td>2021-06-08 12:07:54</td>\n",
       "    </tr>\n",
       "    <tr>\n",
       "      <th>...</th>\n",
       "      <td>...</td>\n",
       "      <td>...</td>\n",
       "      <td>...</td>\n",
       "      <td>...</td>\n",
       "      <td>...</td>\n",
       "      <td>...</td>\n",
       "      <td>...</td>\n",
       "      <td>...</td>\n",
       "    </tr>\n",
       "    <tr>\n",
       "      <th>1233</th>\n",
       "      <td>34850634</td>\n",
       "      <td>사랑인가 봐</td>\n",
       "      <td>466008</td>\n",
       "      <td>1</td>\n",
       "      <td>5711</td>\n",
       "      <td>2</td>\n",
       "      <td>편안해요</td>\n",
       "      <td>2022-03-17 14:48:33</td>\n",
       "    </tr>\n",
       "    <tr>\n",
       "      <th>1234</th>\n",
       "      <td>34890162</td>\n",
       "      <td>다시 만날까 봐</td>\n",
       "      <td>466884</td>\n",
       "      <td>20</td>\n",
       "      <td>5711</td>\n",
       "      <td>2</td>\n",
       "      <td>편안해요</td>\n",
       "      <td>2022-03-17 14:48:33</td>\n",
       "    </tr>\n",
       "    <tr>\n",
       "      <th>1235</th>\n",
       "      <td>34927767</td>\n",
       "      <td>정이라고 하자 (Feat. 10CM)</td>\n",
       "      <td>493585</td>\n",
       "      <td>12</td>\n",
       "      <td>5322</td>\n",
       "      <td>2</td>\n",
       "      <td>화나요</td>\n",
       "      <td>2021-06-08 12:07:54</td>\n",
       "    </tr>\n",
       "    <tr>\n",
       "      <th>1236</th>\n",
       "      <td>34943312</td>\n",
       "      <td>나의 X에게</td>\n",
       "      <td>493585</td>\n",
       "      <td>19</td>\n",
       "      <td>5322</td>\n",
       "      <td>2</td>\n",
       "      <td>화나요</td>\n",
       "      <td>2021-06-08 12:07:54</td>\n",
       "    </tr>\n",
       "    <tr>\n",
       "      <th>1237</th>\n",
       "      <td>101721111</td>\n",
       "      <td>On the Atlas</td>\n",
       "      <td>460784</td>\n",
       "      <td>1</td>\n",
       "      <td>5766</td>\n",
       "      <td>12</td>\n",
       "      <td>신남</td>\n",
       "      <td>2022-03-31 14:31:33</td>\n",
       "    </tr>\n",
       "  </tbody>\n",
       "</table>\n",
       "<p>1238 rows × 8 columns</p>\n",
       "</div>"
      ],
      "text/plain": [
       "        SONG_ID                SONG_TITLE   ST_ID  PRIORITY  ST_TAG_ID  \\\n",
       "0          2466                     오늘도 난  467710         2       5711   \n",
       "1          5112                   끝 (End)  456206        17       5766   \n",
       "2          7712  당신은 모르실거야 (CF - LIG 핑클편)  488851        11       5322   \n",
       "3          9270                 매직 카펫 라이드  363115        13       5330   \n",
       "4          9302         Deep In The Night  489238         9       5322   \n",
       "...         ...                       ...     ...       ...        ...   \n",
       "1233   34850634                    사랑인가 봐  466008         1       5711   \n",
       "1234   34890162                  다시 만날까 봐  466884        20       5711   \n",
       "1235   34927767      정이라고 하자 (Feat. 10CM)  493585        12       5322   \n",
       "1236   34943312                    나의 X에게  493585        19       5322   \n",
       "1237  101721111              On the Atlas  460784         1       5766   \n",
       "\n",
       "      TYPE_ID TAG_NAME                CDATE  \n",
       "0           2     편안해요  2022-03-17 14:48:33  \n",
       "1          12       신남  2022-03-31 14:31:33  \n",
       "2           2      화나요  2021-06-08 12:07:54  \n",
       "3           2     행복해요  2021-06-08 12:07:54  \n",
       "4           2      화나요  2021-06-08 12:07:54  \n",
       "...       ...      ...                  ...  \n",
       "1233        2     편안해요  2022-03-17 14:48:33  \n",
       "1234        2     편안해요  2022-03-17 14:48:33  \n",
       "1235        2      화나요  2021-06-08 12:07:54  \n",
       "1236        2      화나요  2021-06-08 12:07:54  \n",
       "1237       12       신남  2022-03-31 14:31:33  \n",
       "\n",
       "[1238 rows x 8 columns]"
      ]
     },
     "execution_count": 5,
     "metadata": {},
     "output_type": "execute_result"
    }
   ],
   "source": [
    "final_data = pd.read_csv('total_data.csv', encoding = 'utf-8')\n",
    "final_data"
   ]
  },
  {
   "cell_type": "code",
   "execution_count": 6,
   "id": "552897ef",
   "metadata": {},
   "outputs": [],
   "source": [
    "# pretrained yamnet load\n",
    "yamnet_model_handle = 'https://tfhub.dev/google/yamnet/1'\n",
    "yamnet_model = hub.load(yamnet_model_handle)"
   ]
  },
  {
   "cell_type": "code",
   "execution_count": 7,
   "id": "6d8972e0",
   "metadata": {},
   "outputs": [],
   "source": [
    "my_classes = ['화나요','행복해요','편안해요','슬픔','불안','신남']\n",
    "map_class_to_id = {'화나요':0,'행복해요':1,'편안해요':2,'슬픔':3,'불안':4,'신남':5}\n",
    "\n",
    "class_id = final_data['TAG_NAME'].apply(lambda name : map_class_to_id[name])\n",
    "filtered_pd = final_data.assign(TAG_NAME = class_id)"
   ]
  },
  {
   "cell_type": "code",
   "execution_count": 8,
   "id": "1c86ccd2",
   "metadata": {},
   "outputs": [
    {
     "data": {
      "text/html": [
       "<div>\n",
       "<style scoped>\n",
       "    .dataframe tbody tr th:only-of-type {\n",
       "        vertical-align: middle;\n",
       "    }\n",
       "\n",
       "    .dataframe tbody tr th {\n",
       "        vertical-align: top;\n",
       "    }\n",
       "\n",
       "    .dataframe thead th {\n",
       "        text-align: right;\n",
       "    }\n",
       "</style>\n",
       "<table border=\"1\" class=\"dataframe\">\n",
       "  <thead>\n",
       "    <tr style=\"text-align: right;\">\n",
       "      <th></th>\n",
       "      <th>SONG_ID</th>\n",
       "      <th>SONG_TITLE</th>\n",
       "      <th>ST_ID</th>\n",
       "      <th>PRIORITY</th>\n",
       "      <th>ST_TAG_ID</th>\n",
       "      <th>TYPE_ID</th>\n",
       "      <th>TAG_NAME</th>\n",
       "      <th>CDATE</th>\n",
       "    </tr>\n",
       "  </thead>\n",
       "  <tbody>\n",
       "    <tr>\n",
       "      <th>0</th>\n",
       "      <td>C:/music_data/data_wav/2466.wav</td>\n",
       "      <td>오늘도 난</td>\n",
       "      <td>467710</td>\n",
       "      <td>2</td>\n",
       "      <td>5711</td>\n",
       "      <td>2</td>\n",
       "      <td>2</td>\n",
       "      <td>2022-03-17 14:48:33</td>\n",
       "    </tr>\n",
       "    <tr>\n",
       "      <th>1</th>\n",
       "      <td>C:/music_data/data_wav/5112.wav</td>\n",
       "      <td>끝 (End)</td>\n",
       "      <td>456206</td>\n",
       "      <td>17</td>\n",
       "      <td>5766</td>\n",
       "      <td>12</td>\n",
       "      <td>5</td>\n",
       "      <td>2022-03-31 14:31:33</td>\n",
       "    </tr>\n",
       "    <tr>\n",
       "      <th>2</th>\n",
       "      <td>C:/music_data/data_wav/7712.wav</td>\n",
       "      <td>당신은 모르실거야 (CF - LIG 핑클편)</td>\n",
       "      <td>488851</td>\n",
       "      <td>11</td>\n",
       "      <td>5322</td>\n",
       "      <td>2</td>\n",
       "      <td>0</td>\n",
       "      <td>2021-06-08 12:07:54</td>\n",
       "    </tr>\n",
       "    <tr>\n",
       "      <th>3</th>\n",
       "      <td>C:/music_data/data_wav/9270.wav</td>\n",
       "      <td>매직 카펫 라이드</td>\n",
       "      <td>363115</td>\n",
       "      <td>13</td>\n",
       "      <td>5330</td>\n",
       "      <td>2</td>\n",
       "      <td>1</td>\n",
       "      <td>2021-06-08 12:07:54</td>\n",
       "    </tr>\n",
       "    <tr>\n",
       "      <th>4</th>\n",
       "      <td>C:/music_data/data_wav/9302.wav</td>\n",
       "      <td>Deep In The Night</td>\n",
       "      <td>489238</td>\n",
       "      <td>9</td>\n",
       "      <td>5322</td>\n",
       "      <td>2</td>\n",
       "      <td>0</td>\n",
       "      <td>2021-06-08 12:07:54</td>\n",
       "    </tr>\n",
       "  </tbody>\n",
       "</table>\n",
       "</div>"
      ],
      "text/plain": [
       "                           SONG_ID                SONG_TITLE   ST_ID  \\\n",
       "0  C:/music_data/data_wav/2466.wav                     오늘도 난  467710   \n",
       "1  C:/music_data/data_wav/5112.wav                   끝 (End)  456206   \n",
       "2  C:/music_data/data_wav/7712.wav  당신은 모르실거야 (CF - LIG 핑클편)  488851   \n",
       "3  C:/music_data/data_wav/9270.wav                 매직 카펫 라이드  363115   \n",
       "4  C:/music_data/data_wav/9302.wav         Deep In The Night  489238   \n",
       "\n",
       "   PRIORITY  ST_TAG_ID  TYPE_ID  TAG_NAME                CDATE  \n",
       "0         2       5711        2         2  2022-03-17 14:48:33  \n",
       "1        17       5766       12         5  2022-03-31 14:31:33  \n",
       "2        11       5322        2         0  2021-06-08 12:07:54  \n",
       "3        13       5330        2         1  2021-06-08 12:07:54  \n",
       "4         9       5322        2         0  2021-06-08 12:07:54  "
      ]
     },
     "execution_count": 8,
     "metadata": {},
     "output_type": "execute_result"
    }
   ],
   "source": [
    "full_path = filtered_pd['SONG_ID'].apply(lambda row: os.path.join('C:/music_data/data_wav/',str(row) + '.wav'))\n",
    "filtered_pd = filtered_pd.assign(SONG_ID = full_path)\n",
    "filtered_pd.head()"
   ]
  },
  {
   "cell_type": "code",
   "execution_count": 9,
   "id": "27f3da9d",
   "metadata": {},
   "outputs": [],
   "source": [
    "filenames = filtered_pd['SONG_ID']\n",
    "targets = filtered_pd['TAG_NAME']"
   ]
  },
  {
   "cell_type": "code",
   "execution_count": 10,
   "id": "1e807003",
   "metadata": {},
   "outputs": [],
   "source": [
    "from sklearn.model_selection import train_test_split\n",
    "train_X, test_X , train_y, test_y = train_test_split(filenames, targets, test_size = 0.15)\n",
    "train_X, valid_X, train_y, valid_y = train_test_split(train_X, train_y, test_size = 0.176)"
   ]
  },
  {
   "cell_type": "code",
   "execution_count": 11,
   "id": "df393b08",
   "metadata": {},
   "outputs": [],
   "source": [
    "train_ds = tf.data.Dataset.from_tensor_slices((train_X, train_y))\n",
    "valid_ds = tf.data.Dataset.from_tensor_slices((valid_X, valid_y))\n",
    "test_ds = tf.data.Dataset.from_tensor_slices((test_X, test_y))"
   ]
  },
  {
   "cell_type": "code",
   "execution_count": 12,
   "id": "8d48956c",
   "metadata": {},
   "outputs": [
    {
     "name": "stdout",
     "output_type": "stream",
     "text": [
      "WARNING:tensorflow:Using a while_loop for converting IO>AudioResample cause there is no registered converter for this op.\n"
     ]
    },
    {
     "name": "stderr",
     "output_type": "stream",
     "text": [
      "WARNING:tensorflow:Using a while_loop for converting IO>AudioResample cause there is no registered converter for this op.\n"
     ]
    }
   ],
   "source": [
    "def load_wav_for_map(filename, label):\n",
    "    return load_wav_16k_mono(filename), label\n",
    "\n",
    "train_ds = train_ds.map(load_wav_for_map)\n",
    "valid_ds = valid_ds.map(load_wav_for_map)\n",
    "test_ds = test_ds.map(load_wav_for_map)"
   ]
  },
  {
   "cell_type": "code",
   "execution_count": 13,
   "id": "46ef855f",
   "metadata": {},
   "outputs": [],
   "source": [
    "# applies the embedding extraction model to a wav data\n",
    "def extract_embedding(wav_data,targets):\n",
    "    with tf.device('/CPU:0'):\n",
    "        scores, embeddings, spectrogram = yamnet_model(wav_data)\n",
    "        num_embeddings = tf.shape(embeddings)[0]\n",
    "    return (embeddings,\n",
    "           tf.repeat(targets, num_embeddings))\n",
    "\n",
    "# extract embedding\n",
    "train_ds = train_ds.map(extract_embedding).unbatch()\n",
    "valid_ds = valid_ds.map(extract_embedding).unbatch()\n",
    "test_ds = test_ds.map(extract_embedding).unbatch()"
   ]
  },
  {
   "cell_type": "code",
   "execution_count": 14,
   "id": "456aa7ac",
   "metadata": {},
   "outputs": [],
   "source": [
    "train_ds = train_ds.cache().shuffle(1000).batch(32).prefetch(tf.data.AUTOTUNE)\n",
    "valid_ds = valid_ds.cache().batch(32).prefetch(tf.data.AUTOTUNE)\n",
    "test_ds = test_ds.cache().batch(32).prefetch(tf.data.AUTOTUNE)"
   ]
  },
  {
   "cell_type": "code",
   "execution_count": 15,
   "id": "b3ccbcc4",
   "metadata": {},
   "outputs": [
    {
     "name": "stdout",
     "output_type": "stream",
     "text": [
      "Model: \"my_model\"\n",
      "_________________________________________________________________\n",
      " Layer (type)                Output Shape              Param #   \n",
      "=================================================================\n",
      " dense (Dense)               (None, 512)               524800    \n",
      "                                                                 \n",
      " dense_1 (Dense)             (None, 6)                 3078      \n",
      "                                                                 \n",
      "=================================================================\n",
      "Total params: 527,878\n",
      "Trainable params: 527,878\n",
      "Non-trainable params: 0\n",
      "_________________________________________________________________\n"
     ]
    }
   ],
   "source": [
    "my_model = tf.keras.Sequential([\n",
    "    tf.keras.layers.Input(shape=(1024), dtype=tf.float32,\n",
    "                          name='input_embedding'),\n",
    "    tf.keras.layers.Dense(512, activation='relu'),\n",
    "    tf.keras.layers.Dense(len(my_classes), activation = 'softmax')\n",
    "    ], name='my_model')\n",
    "\n",
    "my_model.summary()"
   ]
  },
  {
   "cell_type": "code",
   "execution_count": 16,
   "id": "86285087",
   "metadata": {},
   "outputs": [],
   "source": [
    "my_model.compile(loss=tf.keras.losses.SparseCategoricalCrossentropy(from_logits=True),\n",
    "                 optimizer=\"adam\",\n",
    "                 metrics=['accuracy'])\n",
    "\n",
    "callback = tf.keras.callbacks.EarlyStopping(monitor='loss',\n",
    "                                            patience=3,\n",
    "                                            restore_best_weights=True)"
   ]
  },
  {
   "cell_type": "code",
   "execution_count": 17,
   "id": "9039b8e7",
   "metadata": {},
   "outputs": [
    {
     "name": "stdout",
     "output_type": "stream",
     "text": [
      "Epoch 1/20\n"
     ]
    },
    {
     "name": "stderr",
     "output_type": "stream",
     "text": [
      "C:\\Anaconda3\\lib\\site-packages\\keras\\backend.py:5583: UserWarning: \"`sparse_categorical_crossentropy` received `from_logits=True`, but the `output` argument was produced by a Softmax activation and thus does not represent logits. Was this intended?\n",
      "  output, from_logits, \"Softmax\", \"sparse_categorical_crossentropy\"\n"
     ]
    },
    {
     "name": "stdout",
     "output_type": "stream",
     "text": [
      "12691/12691 [==============================] - 2309s 181ms/step - loss: 0.9981 - accuracy: 0.6542 - val_loss: 2.4798 - val_accuracy: 0.2325\n",
      "Epoch 2/20\n",
      "12691/12691 [==============================] - 29s 2ms/step - loss: 1.0802 - accuracy: 0.6207 - val_loss: 2.0272 - val_accuracy: 0.3006\n",
      "Epoch 3/20\n",
      "12691/12691 [==============================] - 31s 2ms/step - loss: 1.1188 - accuracy: 0.6057 - val_loss: 2.4567 - val_accuracy: 0.2574\n",
      "Epoch 4/20\n",
      "12691/12691 [==============================] - 31s 2ms/step - loss: 1.1344 - accuracy: 0.5956 - val_loss: 2.2831 - val_accuracy: 0.2586\n"
     ]
    }
   ],
   "source": [
    "history = my_model.fit(train_ds,epochs=20, validation_data = valid_ds, callbacks = callback)"
   ]
  },
  {
   "cell_type": "code",
   "execution_count": 18,
   "id": "288c2eb8",
   "metadata": {},
   "outputs": [
    {
     "name": "stdout",
     "output_type": "stream",
     "text": [
      "2686/2686 [==============================] - 390s 143ms/step - loss: 2.5559 - accuracy: 0.2252\n",
      "2.5558950901031494 0.22518004477024078\n"
     ]
    }
   ],
   "source": [
    "loss, accuracy = my_model.evaluate(test_ds)\n",
    "print(loss, accuracy)"
   ]
  },
  {
   "cell_type": "code",
   "execution_count": null,
   "id": "a5c1388d",
   "metadata": {},
   "outputs": [],
   "source": []
  }
 ],
 "metadata": {
  "kernelspec": {
   "display_name": "Python 3 (ipykernel)",
   "language": "python",
   "name": "python3"
  },
  "language_info": {
   "codemirror_mode": {
    "name": "ipython",
    "version": 3
   },
   "file_extension": ".py",
   "mimetype": "text/x-python",
   "name": "python",
   "nbconvert_exporter": "python",
   "pygments_lexer": "ipython3",
   "version": "3.7.4"
  }
 },
 "nbformat": 4,
 "nbformat_minor": 5
}
